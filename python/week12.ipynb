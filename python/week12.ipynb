{
 "cells": [
  {
   "cell_type": "code",
   "execution_count": 2,
   "id": "4329b635",
   "metadata": {},
   "outputs": [
    {
     "name": "stdout",
     "output_type": "stream",
     "text": [
      "일교차가 가장 큰 날\n",
      "2020-05-06\n",
      "최저기온이 가장 낮은 날\n",
      "2020-08-26\n",
      "최고기온이 가장 높은 날\n",
      "2020-06-22\n"
     ]
    }
   ],
   "source": [
    "#실습 #1: 서울의 일교차\n",
    "import csv\n",
    "from operator import itemgetter\n",
    "\n",
    "file = open('seoul.csv', 'r', encoding = 'utf-8')\n",
    "data = csv.reader(file, delimiter = ',')\n",
    "next(data)\n",
    "\n",
    "result = [(row[0], float(row[4]) - float(row[3]), float(row[3]), float(row[4])) for row in data]\n",
    "print(\"일교차가 가장 큰 날\")\n",
    "print(max(result, key = itemgetter(1))[0])\n",
    "print(\"최저기온이 가장 낮은 날\")\n",
    "print(max(result, key = itemgetter(2))[0])\n",
    "print(\"최고기온이 가장 높은 날\")\n",
    "print(max(result, key = itemgetter(3))[0])\n",
    "file.close()"
   ]
  },
  {
   "cell_type": "code",
   "execution_count": 12,
   "id": "23de92b3",
   "metadata": {},
   "outputs": [
    {
     "name": "stdout",
     "output_type": "stream",
     "text": [
      "이용객이 가장 많은 역 순위\n",
      "1.강남(4275444)\n",
      "2.잠실(송파구청)(3522074)\n",
      "3.신림(3318933)\n",
      "이용객이 가장 적은 역 순위\n",
      "1.지축(1)\n",
      "2.김포공항(1)\n",
      "3.검암(1)\n"
     ]
    }
   ],
   "source": [
    "#실습 #2: 지하철 이용객\n",
    "import csv\n",
    "from operator import itemgetter\n",
    "\n",
    "file = open('traffic.csv', 'r', encoding = 'utf-8')\n",
    "data = csv.reader(file, delimiter = ',')\n",
    "next(data)\n",
    "result = [(row[3], int(row[4].replace(',','')) + int(row[5].replace(',',''))) for row in data]\n",
    "min_list = sorted(result, key = itemgetter(1))\n",
    "max_list = sorted(result, key = itemgetter(1), reverse=True)\n",
    "\n",
    "print(\"이용객이 가장 많은 역 순위\")\n",
    "for i in range(3):\n",
    "    print(\"{0}.{1}({2})\".format(i + 1, max_list[i][0], max_list[i][1]))\n",
    "print(\"이용객이 가장 적은 역 순위\")\n",
    "for i in range(3):\n",
    "    print(\"{0}.{1}({2})\".format(i + 1, min_list[i][0], min_list[i][1]))\n",
    "file.close()"
   ]
  },
  {
   "cell_type": "code",
   "execution_count": null,
   "id": "9d30f906",
   "metadata": {},
   "outputs": [],
   "source": []
  }
 ],
 "metadata": {
  "kernelspec": {
   "display_name": "Python 3",
   "language": "python",
   "name": "python3"
  },
  "language_info": {
   "codemirror_mode": {
    "name": "ipython",
    "version": 3
   },
   "file_extension": ".py",
   "mimetype": "text/x-python",
   "name": "python",
   "nbconvert_exporter": "python",
   "pygments_lexer": "ipython3",
   "version": "3.9.4"
  }
 },
 "nbformat": 4,
 "nbformat_minor": 5
}
