{
 "cells": [
  {
   "cell_type": "code",
   "execution_count": 10,
   "id": "1a859988",
   "metadata": {},
   "outputs": [
    {
     "name": "stdout",
     "output_type": "stream",
     "text": [
      "x값을 입력해주세요 : 3\n",
      "45\n"
     ]
    }
   ],
   "source": [
    "x = int(input(\"x값을 입력해주세요 : \"))\n",
    "y = 3 * x * x + 5 * x + 3\n",
    "print(y)"
   ]
  },
  {
   "cell_type": "code",
   "execution_count": 15,
   "id": "f97d6c5f",
   "metadata": {},
   "outputs": [
    {
     "name": "stdout",
     "output_type": "stream",
     "text": [
      "원의 반지름을 입력해주세요 : 2.4\n",
      "둘레 : 15.072\n",
      "넓이 : 18.086\n"
     ]
    }
   ],
   "source": [
    "r = float(input(\"원의 반지름을 입력해주세요 : \"))\n",
    "pi = 3.14\n",
    "x = 2 * pi * r\n",
    "y = pi * r * r\n",
    "print(\"둘레 : {0:.3f}\".format(x))\n",
    "print(\"넓이 : {0:.3f}\".format(y))"
   ]
  },
  {
   "cell_type": "code",
   "execution_count": null,
   "id": "a11eb995",
   "metadata": {},
   "outputs": [],
   "source": []
  }
 ],
 "metadata": {
  "kernelspec": {
   "display_name": "Python 3",
   "language": "python",
   "name": "python3"
  },
  "language_info": {
   "codemirror_mode": {
    "name": "ipython",
    "version": 3
   },
   "file_extension": ".py",
   "mimetype": "text/x-python",
   "name": "python",
   "nbconvert_exporter": "python",
   "pygments_lexer": "ipython3",
   "version": "3.9.4"
  }
 },
 "nbformat": 4,
 "nbformat_minor": 5
}
