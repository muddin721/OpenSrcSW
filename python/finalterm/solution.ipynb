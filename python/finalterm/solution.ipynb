{
 "cells": [
  {
   "cell_type": "code",
   "execution_count": 4,
   "id": "6f3fd88c",
   "metadata": {},
   "outputs": [
    {
     "name": "stdout",
     "output_type": "stream",
     "text": [
      "(1,2)\n",
      "(3,4)\n",
      "(4,6)\n"
     ]
    }
   ],
   "source": [
    "class Point:\n",
    "    x = 0\n",
    "    y = 0\n",
    "    def __init__(self, x, y):\n",
    "        self.x = x\n",
    "        self.y = y\n",
    "    def __add__(self, other):\n",
    "        return Point(self.x + other.x, self.y + other.y)\n",
    "    def show(self):\n",
    "        print(\"({0},{1})\".format(self.x, self.y))\n",
    "\n",
    "a = Point(1, 2)\n",
    "a.show()\n",
    "b = Point(3, 4)\n",
    "b.show()\n",
    "a = a+b\n",
    "a.show()"
   ]
  },
  {
   "cell_type": "code",
   "execution_count": 30,
   "id": "739320c9",
   "metadata": {},
   "outputs": [
    {
     "name": "stdout",
     "output_type": "stream",
     "text": [
      "Max Week = 5/8 ~ 5/14\n"
     ]
    }
   ],
   "source": [
    "import csv\n",
    "from operator import itemgetter\n",
    "file = open('seoul.csv', 'r')\n",
    "reader = csv.reader(file)\n",
    "next(reader)\n",
    "data = list(reader)\n",
    "\n",
    "diff = [(row[0], float(row[4]) - float(row[3])) for row in data]\n",
    "diff_sum = list()\n",
    "\n",
    "for i in range(len(diff)):\n",
    "    index = int(i / 7)\n",
    "    if i % 7 == 0:\n",
    "        diff_sum.append([diff[i][0], 0, diff[i][1]])\n",
    "    else:\n",
    "        diff_sum[index][1] = diff[i][0]\n",
    "        diff_sum[index][2] += diff[i][1]\n",
    "\n",
    "diff_sum = sorted(diff_sum, key=itemgetter(2), reverse = True)\n",
    "\n",
    "start = diff_sum[0][0].split(\"-\")\n",
    "end = diff_sum[0][1].split(\"-\")\n",
    "print(\"Max Week = {0}/{1} ~ {2}/{3}\".format(int(start[1]), int(start[2]), int(end[1]), int(end[2])))\n"
   ]
  },
  {
   "cell_type": "code",
   "execution_count": 9,
   "id": "6ba52005",
   "metadata": {},
   "outputs": [
    {
     "data": {
      "image/png": "[encoded data removed]",
      "text/plain": [
       "<Figure size 432x288 with 1 Axes>"
      ]
     },
     "metadata": {
      "needs_background": "light"
     },
     "output_type": "display_data"
    },
    {
     "name": "stdout",
     "output_type": "stream",
     "text": [
      "['doc1=0.58', 'doc2=0.87', 'doc3=0.67']\n",
      "x축 이름을 바꾸는 방법을 모르겠습니다...\n"
     ]
    }
   ],
   "source": [
    "import numpy as np\n",
    "import matplotlib.pyplot as plt\n",
    "import math\n",
    "def mag(doc):\n",
    "    return math.sqrt(np.dot(doc, doc))\n",
    "def cos(doc, query):\n",
    "    return np.dot(doc, query) / (mag(doc) * mag(query))\n",
    "\n",
    "docs = np.array([[1, 1, 0, 1, 0, 1], [1, 1, 1, 0, 1, 0], [1, 1, 0 ,1, 0, 0]])\n",
    "query = np.array([1, 1, 0, 0, 1, 0])\n",
    "\n",
    "result = [cos(doc, query) for doc in docs]\n",
    "\n",
    "label = [\"doc{0}={1:0.2f}\".format(i + 1, result[i]) for i in range(len(result))]\n",
    "plt.bar(range(len(result)), result)\n",
    "plt.title(\"Cosine similarities\")\n",
    "plt.rc('font', family='Malgun Gothic')\n",
    "plt.show() \n",
    "print(label)\n",
    "print(\"x축 이름을 바꾸는 방법을 모르겠습니다...\")"
   ]
  },
  {
   "cell_type": "code",
   "execution_count": null,
   "id": "e2e02581",
   "metadata": {},
   "outputs": [],
   "source": []
  }
 ],
 "metadata": {
  "kernelspec": {
   "display_name": "Python 3",
   "language": "python",
   "name": "python3"
  },
  "language_info": {
   "codemirror_mode": {
    "name": "ipython",
    "version": 3
   },
   "file_extension": ".py",
   "mimetype": "text/x-python",
   "name": "python",
   "nbconvert_exporter": "python",
   "pygments_lexer": "ipython3",
   "version": "3.8.8"
  }
 },
 "nbformat": 4,
 "nbformat_minor": 5
}
