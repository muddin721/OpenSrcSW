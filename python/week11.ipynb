{
 "cells": [
  {
   "cell_type": "code",
   "execution_count": 15,
   "id": "4f467796",
   "metadata": {},
   "outputs": [
    {
     "name": "stdout",
     "output_type": "stream",
     "text": [
      "명령어를 입력해주세요 : cp D:/KHJ/문의.txt D:/KHJ/문의_복사.txt\n"
     ]
    }
   ],
   "source": [
    "#실습 6\n",
    "import shutil\n",
    "\n",
    "command = input(\"명령어를 입력해주세요 : \").split()\n",
    "\n",
    "if len(command) == 3 and command[0] == \"cp\":\n",
    "    shutil.copy(command[1], command[2])"
   ]
  },
  {
   "cell_type": "code",
   "execution_count": 14,
   "id": "524f65c1",
   "metadata": {},
   "outputs": [
    {
     "name": "stdout",
     "output_type": "stream",
     "text": [
      "파일 경로를 입력해주세요 : D:/KHJ/문의.txt\n",
      "라인의 수는 32이고, 단어 개수는 374개입니다.\n"
     ]
    }
   ],
   "source": [
    "#실습 7\n",
    "\n",
    "lines = open(input(\"파일 경로를 입력해주세요 : \"), \"r\", encoding=\"utf-8\").readlines()\n",
    "word = set() \n",
    "for line in lines:\n",
    "    word.update(line.split())\n",
    "print(\"라인의 수는 {0}이고, 단어 개수는 {1}개입니다.\".format(len(lines), len(word)))"
   ]
  },
  {
   "cell_type": "code",
   "execution_count": 24,
   "id": "51a09d38",
   "metadata": {},
   "outputs": [
    {
     "name": "stdout",
     "output_type": "stream",
     "text": [
      "1 + 2 = 3 입니다.\n",
      "5 - 1 = 4 입니다.\n",
      "2 * 3 = 6 입니다.\n",
      "6 / 2 = 3.0 입니다.\n"
     ]
    }
   ],
   "source": [
    "#실습 8\n",
    "class Calc:\n",
    "    def add(self, a, b):\n",
    "        result = a + b\n",
    "        print(\"{0} + {1} = {2} 입니다.\".format(a, b, result))\n",
    "    def sub(self, a, b):\n",
    "        result = a - b\n",
    "        print(\"{0} - {1} = {2} 입니다.\".format(a, b, result))\n",
    "    def mul(self, a, b):\n",
    "        result = a * b\n",
    "        print(\"{0} * {1} = {2} 입니다.\".format(a, b, result))\n",
    "    def div(self, a, b):\n",
    "        result = a / b\n",
    "        print(\"{0} / {1} = {2} 입니다.\".format(a, b, result))\n",
    "        \n",
    "calc = Calc()\n",
    "calc.add(1, 2)\n",
    "calc.sub(5, 1)\n",
    "calc.mul(2, 3)\n",
    "calc.div(6, 2)"
   ]
  },
  {
   "cell_type": "code",
   "execution_count": 37,
   "id": "8f14d1cd",
   "metadata": {
    "scrolled": true
   },
   "outputs": [
    {
     "name": "stdout",
     "output_type": "stream",
     "text": [
      "계산식 입력 : 40 + 20 * 80 - 30\n",
      "40 20 80 * + 30 -\n",
      "1610\n"
     ]
    }
   ],
   "source": [
    "#실습 9\n",
    "\n",
    "import re\n",
    "\n",
    "class Stack:\n",
    "    array = list() \n",
    "    def push(self, value):\n",
    "        self.array.append(value) \n",
    "    def pop(self):\n",
    "        if len(self.array) > 0:\n",
    "            return self.array.pop()\n",
    "        else:\n",
    "            print(\"스택에 더 이상의 아이템이 존재하지 않습니다.\")\n",
    "    def empty(self):\n",
    "        return len(self.array) == 0\n",
    "    \n",
    "def weight(a):\n",
    "    if a == '*' or a == '/':\n",
    "        return 1\n",
    "    else:\n",
    "        return 0\n",
    "    \n",
    "def operate(a, b, op):\n",
    "    functions = {'+': (lambda x, y: x + y),\n",
    "                 '-': (lambda x, y: x - y),\n",
    "                 '*': (lambda x, y: x * y),\n",
    "                 '/': (lambda x, y: x / y)}\n",
    "    \n",
    "    return (functions[op])(a, b)\n",
    "\n",
    "def convert(command):\n",
    "    stack = Stack()\n",
    "    postfix = \"\"\n",
    "    if re.match(\"^([0-9]* [\\+\\-\\*\\/] )*([0-9]+)$\", command):\n",
    "        lastP = 0\n",
    "        for value in command.split():\n",
    "            if re.match(\"\\d\", value):\n",
    "                postfix += value + \" \"\n",
    "            else: \n",
    "                if(weight(value) <= lastP):\n",
    "                    while not stack.empty():\n",
    "                        postfix += stack.pop() + \" \"\n",
    "                lastP = weight(value)\n",
    "                stack.push(value) \n",
    "    else:\n",
    "        print(\"입력이 바르지 않습니다.\")\n",
    "\n",
    "    while not stack.empty():\n",
    "        postfix += stack.pop() + \" \"\n",
    "    return postfix.rstrip()\n",
    "\n",
    "def calculate(command): \n",
    "    stack = Stack()\n",
    "    for token in command.split():\n",
    "        if re.match(\"[\\+\\-\\*\\/]\", token):\n",
    "            n1 = stack.pop()\n",
    "            n2 = stack.pop()\n",
    "            stack.push(operate(n2, n1, token))\n",
    "        else:\n",
    "            stack.push(int(token))\n",
    "    return stack.pop()\n",
    "\n",
    "postfix = convert(input(\"계산식 입력 : \"))\\\n",
    "print(calculate(postfix))"
   ]
  },
  {
   "cell_type": "code",
   "execution_count": null,
   "id": "366e4a37",
   "metadata": {},
   "outputs": [],
   "source": []
  },
  {
   "cell_type": "code",
   "execution_count": null,
   "id": "72b08ec1",
   "metadata": {},
   "outputs": [],
   "source": []
  }
 ],
 "metadata": {
  "kernelspec": {
   "display_name": "Python 3",
   "language": "python",
   "name": "python3"
  },
  "language_info": {
   "codemirror_mode": {
    "name": "ipython",
    "version": 3
   },
   "file_extension": ".py",
   "mimetype": "text/x-python",
   "name": "python",
   "nbconvert_exporter": "python",
   "pygments_lexer": "ipython3",
   "version": "3.9.4"
  }
 },
 "nbformat": 4,
 "nbformat_minor": 5
}
