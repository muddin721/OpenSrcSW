{
 "cells": [
  {
   "cell_type": "code",
   "execution_count": 12,
   "id": "649681a3",
   "metadata": {},
   "outputs": [
    {
     "name": "stdout",
     "output_type": "stream",
     "text": [
      "Numbers? : 23 13 233\n",
      "Max = 233\n"
     ]
    }
   ],
   "source": [
    "#실습 2 최대값 구하기\n",
    "a = [int(x) for x in input(\"Numbers? : \").split()]\n",
    "print(\"Max = {0}\".format(max(a)))"
   ]
  },
  {
   "cell_type": "code",
   "execution_count": 19,
   "id": "5fcb85db",
   "metadata": {
    "scrolled": true
   },
   "outputs": [
    {
     "name": "stdout",
     "output_type": "stream",
     "text": [
      "1) 암호화 2) 복호화 // 나머지 키는 종료\n",
      "메뉴를 입력해주세요 : 2\n",
      "복호화 입력하세요 : abc def\n",
      "cde `ab\n",
      "1) 암호화 2) 복호화 // 나머지 키는 종료\n",
      "메뉴를 입력해주세요 : 4\n"
     ]
    }
   ],
   "source": [
    "# 실습 3 암호화/복호화\n",
    "def func(li, inc):\n",
    "    li.reverse()\n",
    "    result = []\n",
    "    for s in li:\n",
    "        s = list(s)\n",
    "        for i, c in enumerate(s):\n",
    "            s[i] = chr(ord(c) + inc)\n",
    "        result.append(\"\".join(s))\n",
    "    print(\" \".join(result)) \n",
    "    return result\n",
    "\n",
    "def encrypt(li):\n",
    "    return func(li, 1)\n",
    "def decrypt(li):\n",
    "    return func(li, -1)\n",
    "\n",
    "while(1):\n",
    "    print(\"1) 암호화 2) 복호화 // 나머지 키는 종료\")\n",
    "    menu = input(\"메뉴를 입력해주세요 : \")\n",
    "    if menu == \"1\":\n",
    "        a = input(\"암호화 입력하세요 : \").split()\n",
    "        b = encrypt(a)\n",
    "    elif menu == \"2\":\n",
    "        a = input(\"복호화 입력하세요 : \").split()\n",
    "        b = decrypt(a)\n",
    "    else:\n",
    "        break"
   ]
  },
  {
   "cell_type": "code",
   "execution_count": 23,
   "id": "52f12d4a",
   "metadata": {},
   "outputs": [
    {
     "name": "stdout",
     "output_type": "stream",
     "text": [
      "===== 1번째 전화번호 =====\n",
      "이름 : addd\n",
      "전화번호 : ddd\n",
      "===== 2번째 전화번호 =====\n",
      "이름 : addd\n",
      "전화번호 : bbb\n",
      "===== 3번째 전화번호 =====\n",
      "이름 : addd\n",
      "전화번호 : ccc\n",
      "===== 4번째 전화번호 =====\n",
      "이름 : adddww\n",
      "전화번호 : dqd\n",
      "===== 5번째 전화번호 =====\n",
      "이름 : adddwdqd\n",
      "전화번호 : dqd\n",
      "이미 존재하는 전화번호입니다.\n",
      "===== 6번째 전화번호 =====\n",
      "이름 : wdqwd\n",
      "전화번호 : fgqf\n",
      "===== 7번째 전화번호 =====\n",
      "이름 : qdqd\n",
      "전화번호 : eeqwe\n",
      "===== 8번째 전화번호 =====\n",
      "이름 : qdqd\n",
      "전화번호 : dadd\n",
      "===== 9번째 전화번호 =====\n",
      "이름 : gqggq\n",
      "전화번호 : wgg\n",
      "===== 10번째 전화번호 =====\n",
      "이름 : wg\n",
      "전화번호 : wg\n",
      "1) 이름으로 검색 2) 전화번호로 검색 // 나머지 키는 종료\n",
      "메뉴를 입력해주세요 : 1\n",
      "이름 : addd\n",
      "ddd : addd\n",
      "bbb : addd\n",
      "ccc : addd\n",
      "1) 이름으로 검색 2) 전화번호로 검색 // 나머지 키는 종료\n",
      "메뉴를 입력해주세요 : 2\n",
      "전화번호 : dadd\n",
      "qdqd : dadd\n",
      "1) 이름으로 검색 2) 전화번호로 검색 // 나머지 키는 종료\n",
      "메뉴를 입력해주세요 : r\n"
     ]
    }
   ],
   "source": [
    "# 실습 4 전화번호부\n",
    "numD = {}\n",
    "for i in range(10):\n",
    "    print(\"===== {0}번째 전화번호 =====\".format(i + 1))\n",
    "    name = input(\"이름 : \")\n",
    "    num = input(\"전화번호 : \")\n",
    "    \n",
    "    if num not in numD.keys():\n",
    "        numD[num] = name\n",
    "    else:\n",
    "        print(\"이미 존재하는 전화번호입니다.\")\n",
    "        \n",
    "while(1):\n",
    "    print(\"1) 이름으로 검색 2) 전화번호로 검색 // 나머지 키는 종료\")\n",
    "    menu = input(\"메뉴를 입력해주세요 : \")\n",
    "    if menu == \"1\": \n",
    "        name = input(\"이름 : \") \n",
    "        for key, value in numD.items():\n",
    "            if value == name: \n",
    "                print(\"{0} : {1}\".format(value, key))\n",
    "    elif menu == \"2\": \n",
    "        num = input(\"전화번호 : \")\n",
    "        print(\"{0} : {1}\".format(numD[num], num))\n",
    "    else:\n",
    "        break"
   ]
  },
  {
   "cell_type": "code",
   "execution_count": null,
   "id": "8c4602a5",
   "metadata": {},
   "outputs": [],
   "source": []
  }
 ],
 "metadata": {
  "kernelspec": {
   "display_name": "Python 3",
   "language": "python",
   "name": "python3"
  },
  "language_info": {
   "codemirror_mode": {
    "name": "ipython",
    "version": 3
   },
   "file_extension": ".py",
   "mimetype": "text/x-python",
   "name": "python",
   "nbconvert_exporter": "python",
   "pygments_lexer": "ipython3",
   "version": "3.9.4"
  }
 },
 "nbformat": 4,
 "nbformat_minor": 5
}
